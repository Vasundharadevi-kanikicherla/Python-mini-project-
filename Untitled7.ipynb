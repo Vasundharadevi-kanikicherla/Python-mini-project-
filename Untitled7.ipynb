{
  "nbformat": 4,
  "nbformat_minor": 0,
  "metadata": {
    "colab": {
      "provenance": [],
      "authorship_tag": "ABX9TyNrOP/2HcQjbd4A3o4oqxZK",
      "include_colab_link": true
    },
    "kernelspec": {
      "name": "python3",
      "display_name": "Python 3"
    },
    "language_info": {
      "name": "python"
    }
  },
  "cells": [
    {
      "cell_type": "markdown",
      "metadata": {
        "id": "view-in-github",
        "colab_type": "text"
      },
      "source": [
        "<a href=\"https://colab.research.google.com/github/Vasundharadevi-kanikicherla/Python-mini-project-/blob/main/Untitled7.ipynb\" target=\"_parent\"><img src=\"https://colab.research.google.com/assets/colab-badge.svg\" alt=\"Open In Colab\"/></a>"
      ]
    },
    {
      "cell_type": "code",
      "execution_count": 51,
      "metadata": {
        "colab": {
          "base_uri": "https://localhost:8080/"
        },
        "id": "u3hTwoXX59ji",
        "outputId": "5fc5b4ef-13b7-49e6-ab17-7e5d71d22035"
      },
      "outputs": [
        {
          "output_type": "stream",
          "name": "stdout",
          "text": [
            "[10, 8, 6, 5, 4, 3, 1]\n"
          ]
        }
      ],
      "source": [
        " numbers=[6,1,10,8,4,3,5]\n",
        " des_order=[]\n",
        " def minimum(num):\n",
        "     mini_value=num[0]\n",
        "     for x in num:\n",
        "        if x>=mini_value:\n",
        "           mini_value=x\n",
        "     num.remove(mini_value)\n",
        "     des_order.append(mini_value)\n",
        "for x in range(len(numbers)):\n",
        "     minimum(numbers)\n",
        "print(des_order)"
      ]
    }
  ]
}